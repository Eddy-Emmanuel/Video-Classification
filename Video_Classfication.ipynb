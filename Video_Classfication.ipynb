{
  "metadata": {
    "kernelspec": {
      "language": "python",
      "display_name": "Python 3",
      "name": "python3"
    },
    "language_info": {
      "name": "python",
      "version": "3.10.14",
      "mimetype": "text/x-python",
      "codemirror_mode": {
        "name": "ipython",
        "version": 3
      },
      "pygments_lexer": "ipython3",
      "nbconvert_exporter": "python",
      "file_extension": ".py"
    },
    "kaggle": {
      "accelerator": "gpu",
      "dataSources": [
        {
          "sourceId": 1436057,
          "sourceType": "datasetVersion",
          "datasetId": 841381
        }
      ],
      "dockerImageVersionId": 30787,
      "isInternetEnabled": true,
      "language": "python",
      "sourceType": "notebook",
      "isGpuEnabled": true
    },
    "colab": {
      "name": "Video Classfication",
      "provenance": [],
      "include_colab_link": true
    }
  },
  "nbformat_minor": 0,
  "nbformat": 4,
  "cells": [
    {
      "cell_type": "markdown",
      "metadata": {
        "id": "view-in-github",
        "colab_type": "text"
      },
      "source": [
        "<a href=\"https://colab.research.google.com/github/Eddy-Emmanuel/Video-Classification/blob/main/Video_Classfication.ipynb\" target=\"_parent\"><img src=\"https://colab.research.google.com/assets/colab-badge.svg\" alt=\"Open In Colab\"/></a>"
      ]
    },
    {
      "source": [
        "\n",
        "# IMPORTANT: RUN THIS CELL IN ORDER TO IMPORT YOUR KAGGLE DATA SOURCES\n",
        "# TO THE CORRECT LOCATION (/kaggle/input) IN YOUR NOTEBOOK,\n",
        "# THEN FEEL FREE TO DELETE THIS CELL.\n",
        "# NOTE: THIS NOTEBOOK ENVIRONMENT DIFFERS FROM KAGGLE'S PYTHON\n",
        "# ENVIRONMENT SO THERE MAY BE MISSING LIBRARIES USED BY YOUR\n",
        "# NOTEBOOK.\n",
        "\n",
        "import os\n",
        "import sys\n",
        "from tempfile import NamedTemporaryFile\n",
        "from urllib.request import urlopen\n",
        "from urllib.parse import unquote, urlparse\n",
        "from urllib.error import HTTPError\n",
        "from zipfile import ZipFile\n",
        "import tarfile\n",
        "import shutil\n",
        "\n",
        "CHUNK_SIZE = 40960\n",
        "DATA_SOURCE_MAPPING = 'ucf101:https%3A%2F%2Fstorage.googleapis.com%2Fkaggle-data-sets%2F841381%2F1436057%2Fbundle%2Farchive.zip%3FX-Goog-Algorithm%3DGOOG4-RSA-SHA256%26X-Goog-Credential%3Dgcp-kaggle-com%2540kaggle-161607.iam.gserviceaccount.com%252F20241007%252Fauto%252Fstorage%252Fgoog4_request%26X-Goog-Date%3D20241007T014737Z%26X-Goog-Expires%3D259200%26X-Goog-SignedHeaders%3Dhost%26X-Goog-Signature%3D7e178e64a3c1087d5ac4f8b29edb3a20fc7459add0a5f21f61b2e9fe6007c89b4ae405da88fbdbb608f737cba242b984bc49814eeae678734a9d1b279a17d2fdd5c75317889f08dbc305a1ff72420c52c331c0d489d92438dac4b3acb77fe717c45f1346ed4d81cdd0102d77708480ec5284fa0bb1ce0fc57afbcf13e3fe83ad98363e09980d738b3bcbb72d16c97f7975dbe682fc409a5db29590cf9cf14e97aad3cf82c2bb4750f9c7e674f111accadb74a246512a1ea3bc20cdb73217bc0432eca7f9b0983b1fe29a9660f3252f4963056b7100f266f3c8bca5fa6add915bf489b51ea358303360c56bbbc151c5d4be03699d2865a0c5912a1479cb0cf860'\n",
        "\n",
        "KAGGLE_INPUT_PATH='/kaggle/input'\n",
        "KAGGLE_WORKING_PATH='/kaggle/working'\n",
        "KAGGLE_SYMLINK='kaggle'\n",
        "\n",
        "!umount /kaggle/input/ 2> /dev/null\n",
        "shutil.rmtree('/kaggle/input', ignore_errors=True)\n",
        "os.makedirs(KAGGLE_INPUT_PATH, 0o777, exist_ok=True)\n",
        "os.makedirs(KAGGLE_WORKING_PATH, 0o777, exist_ok=True)\n",
        "\n",
        "try:\n",
        "  os.symlink(KAGGLE_INPUT_PATH, os.path.join(\"..\", 'input'), target_is_directory=True)\n",
        "except FileExistsError:\n",
        "  pass\n",
        "try:\n",
        "  os.symlink(KAGGLE_WORKING_PATH, os.path.join(\"..\", 'working'), target_is_directory=True)\n",
        "except FileExistsError:\n",
        "  pass\n",
        "\n",
        "for data_source_mapping in DATA_SOURCE_MAPPING.split(','):\n",
        "    directory, download_url_encoded = data_source_mapping.split(':')\n",
        "    download_url = unquote(download_url_encoded)\n",
        "    filename = urlparse(download_url).path\n",
        "    destination_path = os.path.join(KAGGLE_INPUT_PATH, directory)\n",
        "    try:\n",
        "        with urlopen(download_url) as fileres, NamedTemporaryFile() as tfile:\n",
        "            total_length = fileres.headers['content-length']\n",
        "            print(f'Downloading {directory}, {total_length} bytes compressed')\n",
        "            dl = 0\n",
        "            data = fileres.read(CHUNK_SIZE)\n",
        "            while len(data) > 0:\n",
        "                dl += len(data)\n",
        "                tfile.write(data)\n",
        "                done = int(50 * dl / int(total_length))\n",
        "                sys.stdout.write(f\"\\r[{'=' * done}{' ' * (50-done)}] {dl} bytes downloaded\")\n",
        "                sys.stdout.flush()\n",
        "                data = fileres.read(CHUNK_SIZE)\n",
        "            if filename.endswith('.zip'):\n",
        "              with ZipFile(tfile) as zfile:\n",
        "                zfile.extractall(destination_path)\n",
        "            else:\n",
        "              with tarfile.open(tfile.name) as tarfile:\n",
        "                tarfile.extractall(destination_path)\n",
        "            print(f'\\nDownloaded and uncompressed: {directory}')\n",
        "    except HTTPError as e:\n",
        "        print(f'Failed to load (likely expired) {download_url} to path {destination_path}')\n",
        "        continue\n",
        "    except OSError as e:\n",
        "        print(f'Failed to load {download_url} to path {destination_path}')\n",
        "        continue\n",
        "\n",
        "print('Data source import complete.')\n"
      ],
      "metadata": {
        "id": "epqaMNmkqSpd"
      },
      "cell_type": "code",
      "outputs": [],
      "execution_count": null
    },
    {
      "cell_type": "code",
      "source": [
        "# This is needed to be able to build the model\n",
        "# Upgrade TensorFlow and Keras to specific versions\n",
        "!pip install --upgrade tensorflow==2.17.0\n",
        "!pip install --upgrade keras==3.5.0"
      ],
      "metadata": {
        "execution": {
          "iopub.status.busy": "2024-10-07T00:45:05.727973Z",
          "iopub.execute_input": "2024-10-07T00:45:05.728522Z",
          "iopub.status.idle": "2024-10-07T00:46:56.47871Z",
          "shell.execute_reply.started": "2024-10-07T00:45:05.728485Z",
          "shell.execute_reply": "2024-10-07T00:46:56.477558Z"
        },
        "trusted": true,
        "id": "SFRQg4gTqSpw"
      },
      "execution_count": null,
      "outputs": []
    },
    {
      "cell_type": "code",
      "source": [
        "from warnings import filterwarnings\n",
        "filterwarnings(action=\"ignore\")\n",
        "\n",
        "import cv2\n",
        "import imageio\n",
        "from IPython.display import Image, display\n",
        "\n",
        "import numpy as np\n",
        "import pandas as pd\n",
        "from glob import glob\n",
        "\n",
        "from tqdm.auto import tqdm\n",
        "tqdm.pandas()\n",
        "\n",
        "import albumentations as A\n",
        "from albumentations.pytorch import ToTensorV2\n",
        "\n",
        "from sklearn import metrics\n",
        "from sklearn.preprocessing import LabelEncoder\n",
        "from sklearn.model_selection import train_test_split\n",
        "\n",
        "import tensorflow as tf\n",
        "import tensorflow.keras.backend as K\n",
        "from tensorflow.keras.applications import ResNet50\n",
        "from tensorflow.keras.utils import to_categorical, plot_model\n",
        "from tensorflow.keras import Input, layers, Sequential, Model, callbacks, optimizers\n",
        "\n",
        "import seaborn as sns\n",
        "import matplotlib.pyplot as plt\n",
        "plt.style.use(\"ggplot\")\n",
        "%matplotlib inline"
      ],
      "metadata": {
        "execution": {
          "iopub.status.busy": "2024-10-07T01:27:35.197266Z",
          "iopub.execute_input": "2024-10-07T01:27:35.197575Z",
          "iopub.status.idle": "2024-10-07T01:27:35.20924Z",
          "shell.execute_reply.started": "2024-10-07T01:27:35.197543Z",
          "shell.execute_reply": "2024-10-07T01:27:35.208372Z"
        },
        "trusted": true,
        "id": "6C8iSiBLqSp0"
      },
      "execution_count": null,
      "outputs": []
    },
    {
      "cell_type": "code",
      "source": [
        "class Config:\n",
        "    random_state = 2024\n",
        "    test_size = .3\n",
        "    batch_size = 32\n",
        "    data_path = \"/kaggle/input/ucf101\""
      ],
      "metadata": {
        "execution": {
          "iopub.status.busy": "2024-10-07T00:47:07.321451Z",
          "iopub.execute_input": "2024-10-07T00:47:07.322206Z",
          "iopub.status.idle": "2024-10-07T00:47:07.327321Z",
          "shell.execute_reply.started": "2024-10-07T00:47:07.322153Z",
          "shell.execute_reply": "2024-10-07T00:47:07.32628Z"
        },
        "trusted": true,
        "id": "HU-Dqv3gqSp2"
      },
      "execution_count": null,
      "outputs": []
    },
    {
      "cell_type": "code",
      "source": [
        "project_config = Config()"
      ],
      "metadata": {
        "execution": {
          "iopub.status.busy": "2024-10-07T00:47:07.331225Z",
          "iopub.execute_input": "2024-10-07T00:47:07.332094Z",
          "iopub.status.idle": "2024-10-07T00:47:07.358252Z",
          "shell.execute_reply.started": "2024-10-07T00:47:07.332037Z",
          "shell.execute_reply": "2024-10-07T00:47:07.357496Z"
        },
        "trusted": true,
        "id": "Y8N-7dc6qSp4"
      },
      "execution_count": null,
      "outputs": []
    },
    {
      "cell_type": "code",
      "source": [
        "def GetVideoDf(path:str):\n",
        "    data = dict(file_path=[], label=[])\n",
        "    for i in tqdm(glob(path+\"/**/**/**/**.avi\")):\n",
        "        data[\"file_path\"].append(i)\n",
        "        data[\"label\"].append(i.split(\"/\")[-2])\n",
        "    return pd.DataFrame(data)"
      ],
      "metadata": {
        "_uuid": "8f2839f25d086af736a60e9eeb907d3b93b6e0e5",
        "_cell_guid": "b1076dfc-b9ad-4769-8c92-a6c4dae69d19",
        "execution": {
          "iopub.status.busy": "2024-10-07T00:47:07.359304Z",
          "iopub.execute_input": "2024-10-07T00:47:07.359628Z",
          "iopub.status.idle": "2024-10-07T00:47:07.368419Z",
          "shell.execute_reply.started": "2024-10-07T00:47:07.359595Z",
          "shell.execute_reply": "2024-10-07T00:47:07.367606Z"
        },
        "trusted": true,
        "id": "l4W1huqtqSp6"
      },
      "execution_count": null,
      "outputs": []
    },
    {
      "cell_type": "code",
      "source": [
        "df = GetVideoDf(path=project_config.data_path)\n",
        "\n",
        "print(df.shape)\n",
        "\n",
        "df.head()"
      ],
      "metadata": {
        "execution": {
          "iopub.status.busy": "2024-10-07T00:47:07.369451Z",
          "iopub.execute_input": "2024-10-07T00:47:07.36974Z",
          "iopub.status.idle": "2024-10-07T00:47:08.893852Z",
          "shell.execute_reply.started": "2024-10-07T00:47:07.369709Z",
          "shell.execute_reply": "2024-10-07T00:47:08.892829Z"
        },
        "trusted": true,
        "id": "E82nMN3bqSp7"
      },
      "execution_count": null,
      "outputs": []
    },
    {
      "cell_type": "code",
      "source": [
        "df[\"label\"].value_counts().to_dict()"
      ],
      "metadata": {
        "execution": {
          "iopub.status.busy": "2024-10-07T00:47:08.89513Z",
          "iopub.execute_input": "2024-10-07T00:47:08.895585Z",
          "iopub.status.idle": "2024-10-07T00:47:08.915209Z",
          "shell.execute_reply.started": "2024-10-07T00:47:08.895534Z",
          "shell.execute_reply": "2024-10-07T00:47:08.914417Z"
        },
        "trusted": true,
        "id": "xHO3JnRrqSp-"
      },
      "execution_count": null,
      "outputs": []
    },
    {
      "cell_type": "markdown",
      "source": [
        "## Filter out just 5 kinds of videos to classify due to limited computational resources"
      ],
      "metadata": {
        "id": "rNA2nkQHqSqA"
      }
    },
    {
      "cell_type": "code",
      "source": [
        "filtered_df = df[df[\"label\"].isin([\"CricketShot\",\n",
        "                                   \"TennisSwing\",\n",
        "                                   \"PlayingDhol\",\n",
        "                                   \"HorseRiding\",\n",
        "                                   \"PlayingCello\"\n",
        "                                   ])].reset_index(drop=True)\n",
        "\n",
        "print(filtered_df.shape)\n",
        "\n",
        "filtered_df.head()"
      ],
      "metadata": {
        "execution": {
          "iopub.status.busy": "2024-10-07T00:47:08.916152Z",
          "iopub.execute_input": "2024-10-07T00:47:08.916407Z",
          "iopub.status.idle": "2024-10-07T00:47:08.930798Z",
          "shell.execute_reply.started": "2024-10-07T00:47:08.916379Z",
          "shell.execute_reply": "2024-10-07T00:47:08.92983Z"
        },
        "trusted": true,
        "id": "yfBeddKgqSqF"
      },
      "execution_count": null,
      "outputs": []
    },
    {
      "cell_type": "code",
      "source": [
        "target_dist = filtered_df[\"label\"].value_counts().plot(kind=\"bar\",\n",
        "                                                       figsize=(20, 6),\n",
        "                                                       xlabel=\"Label\",\n",
        "                                                       ylabel=\"Count\",\n",
        "                                                       title=\"Target Distribution\")\n",
        "\n",
        "for p in target_dist.patches:\n",
        "    height = p.get_height()\n",
        "    target_dist.text(p.get_x() + p.get_width() / 2,\n",
        "                     height,\n",
        "                     f'{int(height)}',\n",
        "                     ha='center',\n",
        "                     va='bottom')\n",
        "\n",
        "target_dist.set_xticklabels(labels=target_dist.get_xticklabels(), rotation=0)\n",
        "\n",
        "plt.show()"
      ],
      "metadata": {
        "execution": {
          "iopub.status.busy": "2024-10-07T00:47:08.932031Z",
          "iopub.execute_input": "2024-10-07T00:47:08.932451Z",
          "iopub.status.idle": "2024-10-07T00:47:09.316754Z",
          "shell.execute_reply.started": "2024-10-07T00:47:08.932412Z",
          "shell.execute_reply": "2024-10-07T00:47:09.315809Z"
        },
        "trusted": true,
        "id": "_BBT7489qSqH"
      },
      "execution_count": null,
      "outputs": []
    },
    {
      "cell_type": "code",
      "source": [
        "encoder = LabelEncoder()"
      ],
      "metadata": {
        "execution": {
          "iopub.status.busy": "2024-10-07T00:47:09.32033Z",
          "iopub.execute_input": "2024-10-07T00:47:09.320632Z",
          "iopub.status.idle": "2024-10-07T00:47:09.324888Z",
          "shell.execute_reply.started": "2024-10-07T00:47:09.3206Z",
          "shell.execute_reply": "2024-10-07T00:47:09.323927Z"
        },
        "trusted": true,
        "id": "PZBGoaeeqSqI"
      },
      "execution_count": null,
      "outputs": []
    },
    {
      "cell_type": "code",
      "source": [
        "filtered_df[\"encoded_label\"] = encoder.fit_transform(filtered_df[\"label\"])"
      ],
      "metadata": {
        "execution": {
          "iopub.status.busy": "2024-10-07T00:47:09.326112Z",
          "iopub.execute_input": "2024-10-07T00:47:09.326473Z",
          "iopub.status.idle": "2024-10-07T00:47:09.336086Z",
          "shell.execute_reply.started": "2024-10-07T00:47:09.326434Z",
          "shell.execute_reply": "2024-10-07T00:47:09.335191Z"
        },
        "trusted": true,
        "id": "vjtyt6EwqSqJ"
      },
      "execution_count": null,
      "outputs": []
    },
    {
      "cell_type": "code",
      "source": [
        "filtered_df"
      ],
      "metadata": {
        "execution": {
          "iopub.status.busy": "2024-10-07T00:47:09.337161Z",
          "iopub.execute_input": "2024-10-07T00:47:09.33746Z",
          "iopub.status.idle": "2024-10-07T00:47:09.354507Z",
          "shell.execute_reply.started": "2024-10-07T00:47:09.337429Z",
          "shell.execute_reply": "2024-10-07T00:47:09.353476Z"
        },
        "trusted": true,
        "id": "01ijyw0ZqSqK"
      },
      "execution_count": null,
      "outputs": []
    },
    {
      "cell_type": "code",
      "source": [
        "label_index = {j:i for i, j in zip(encoder.classes_, range(len(encoder.classes_)))}\n",
        "\n",
        "label_index"
      ],
      "metadata": {
        "execution": {
          "iopub.status.busy": "2024-10-07T00:47:09.355964Z",
          "iopub.execute_input": "2024-10-07T00:47:09.356747Z",
          "iopub.status.idle": "2024-10-07T00:47:09.363411Z",
          "shell.execute_reply.started": "2024-10-07T00:47:09.356704Z",
          "shell.execute_reply": "2024-10-07T00:47:09.36229Z"
        },
        "trusted": true,
        "id": "YOlCkdJiqSqL"
      },
      "execution_count": null,
      "outputs": []
    },
    {
      "cell_type": "code",
      "source": [
        "def GetFrames(file_paths: list, fps: int):\n",
        "    frames_per_video = []\n",
        "\n",
        "    for path in tqdm(file_paths):\n",
        "        extracted_frames = []\n",
        "        video = cv2.VideoCapture(path)\n",
        "\n",
        "        if not video.isOpened():\n",
        "            print(f\"Error loading {path}\")\n",
        "            continue\n",
        "\n",
        "        total_frames_per_video = int(video.get(cv2.CAP_PROP_FRAME_COUNT))\n",
        "        strides = total_frames_per_video // fps if fps > 0 else 0\n",
        "\n",
        "        if strides == 0:\n",
        "            print(f\"Not enough frames in: {path}, total_frames_per_video: {total_frames_per_video}\")\n",
        "            continue\n",
        "\n",
        "        frame_count = 0\n",
        "        while True:\n",
        "            suc, frame = video.read()\n",
        "\n",
        "            if not suc:\n",
        "                break\n",
        "\n",
        "            if (frame_count % strides) == 0:\n",
        "                bgr_2_rbg = cv2.cvtColor(frame, cv2.COLOR_BGR2RGB)\n",
        "\n",
        "                transform = A.Compose([\n",
        "                    A.Resize(height=64, width=64, p=1),\n",
        "                    A.Normalize(p=1)\n",
        "                ])\n",
        "\n",
        "                augmented_image = transform(image=bgr_2_rbg)[\"image\"]\n",
        "                extracted_frames.append(augmented_image)\n",
        "\n",
        "            frame_count += 1\n",
        "\n",
        "            if len(extracted_frames) >= fps:\n",
        "                break\n",
        "\n",
        "        frames_per_video.append(extracted_frames)\n",
        "        video.release()\n",
        "\n",
        "    return np.array(frames_per_video)"
      ],
      "metadata": {
        "execution": {
          "iopub.status.busy": "2024-10-07T00:47:09.364604Z",
          "iopub.execute_input": "2024-10-07T00:47:09.365198Z",
          "iopub.status.idle": "2024-10-07T00:47:09.375868Z",
          "shell.execute_reply.started": "2024-10-07T00:47:09.365152Z",
          "shell.execute_reply": "2024-10-07T00:47:09.374953Z"
        },
        "trusted": true,
        "id": "oLPm_0RLqSqL"
      },
      "execution_count": null,
      "outputs": []
    },
    {
      "cell_type": "code",
      "source": [
        "X = GetFrames(filtered_df[\"file_path\"], 30)"
      ],
      "metadata": {
        "execution": {
          "iopub.status.busy": "2024-10-07T00:47:09.377038Z",
          "iopub.execute_input": "2024-10-07T00:47:09.377752Z",
          "iopub.status.idle": "2024-10-07T00:47:54.915169Z",
          "shell.execute_reply.started": "2024-10-07T00:47:09.377709Z",
          "shell.execute_reply": "2024-10-07T00:47:54.91436Z"
        },
        "trusted": true,
        "id": "b6Z0DDeoqSqM"
      },
      "execution_count": null,
      "outputs": []
    },
    {
      "cell_type": "code",
      "source": [
        "X.shape"
      ],
      "metadata": {
        "execution": {
          "iopub.status.busy": "2024-10-07T00:47:54.916603Z",
          "iopub.execute_input": "2024-10-07T00:47:54.917047Z",
          "iopub.status.idle": "2024-10-07T00:47:54.923839Z",
          "shell.execute_reply.started": "2024-10-07T00:47:54.916996Z",
          "shell.execute_reply": "2024-10-07T00:47:54.922821Z"
        },
        "trusted": true,
        "id": "7EL-SMNmqSqN"
      },
      "execution_count": null,
      "outputs": []
    },
    {
      "cell_type": "code",
      "source": [
        "def ShowVideo(frames):\n",
        "    clipped_frame = np.clip(frames*255, 0, 255).astype(np.uint8)\n",
        "    imageio.mimsave(f\"video.gif\", clipped_frame, fps=frames.shape[0])\n",
        "    display(Image(filename=\"./video.gif\", embed=True, height=400, width=400))"
      ],
      "metadata": {
        "execution": {
          "iopub.status.busy": "2024-10-07T00:47:54.92497Z",
          "iopub.execute_input": "2024-10-07T00:47:54.925261Z",
          "iopub.status.idle": "2024-10-07T00:47:54.935684Z",
          "shell.execute_reply.started": "2024-10-07T00:47:54.925229Z",
          "shell.execute_reply": "2024-10-07T00:47:54.934883Z"
        },
        "trusted": true,
        "id": "7sWrXOGKqSqO"
      },
      "execution_count": null,
      "outputs": []
    },
    {
      "cell_type": "code",
      "source": [
        "ShowVideo(X[30])"
      ],
      "metadata": {
        "execution": {
          "iopub.status.busy": "2024-10-07T00:47:54.936907Z",
          "iopub.execute_input": "2024-10-07T00:47:54.937276Z",
          "iopub.status.idle": "2024-10-07T00:47:55.188166Z",
          "shell.execute_reply.started": "2024-10-07T00:47:54.937233Z",
          "shell.execute_reply": "2024-10-07T00:47:55.187256Z"
        },
        "trusted": true,
        "id": "XAT3Q9pbqSqP"
      },
      "execution_count": null,
      "outputs": []
    },
    {
      "cell_type": "code",
      "source": [
        "y = filtered_df[\"encoded_label\"]"
      ],
      "metadata": {
        "execution": {
          "iopub.status.busy": "2024-10-07T00:47:55.189404Z",
          "iopub.execute_input": "2024-10-07T00:47:55.189707Z",
          "iopub.status.idle": "2024-10-07T00:47:55.194065Z",
          "shell.execute_reply.started": "2024-10-07T00:47:55.189674Z",
          "shell.execute_reply": "2024-10-07T00:47:55.193122Z"
        },
        "trusted": true,
        "id": "uVbBaX-YqSqQ"
      },
      "execution_count": null,
      "outputs": []
    },
    {
      "cell_type": "code",
      "source": [
        "Xtrain, Xtest, ytrain, ytest = train_test_split(X, y,\n",
        "                                                test_size=project_config.test_size,\n",
        "                                                stratify=y,\n",
        "                                                shuffle=True,\n",
        "                                                random_state=project_config.random_state)\n",
        "\n",
        "print(Xtrain.shape, Xtest.shape, ytrain.shape, ytest.shape)"
      ],
      "metadata": {
        "execution": {
          "iopub.status.busy": "2024-10-07T00:47:55.195315Z",
          "iopub.execute_input": "2024-10-07T00:47:55.195647Z",
          "iopub.status.idle": "2024-10-07T00:47:55.536705Z",
          "shell.execute_reply.started": "2024-10-07T00:47:55.195613Z",
          "shell.execute_reply": "2024-10-07T00:47:55.535622Z"
        },
        "trusted": true,
        "id": "IPp3FfiLqSqR"
      },
      "execution_count": null,
      "outputs": []
    },
    {
      "cell_type": "code",
      "source": [
        "ytrain = to_categorical(ytrain)\n",
        "ytest = to_categorical(ytest)"
      ],
      "metadata": {
        "execution": {
          "iopub.status.busy": "2024-10-07T00:47:55.538178Z",
          "iopub.execute_input": "2024-10-07T00:47:55.538517Z",
          "iopub.status.idle": "2024-10-07T00:47:55.543672Z",
          "shell.execute_reply.started": "2024-10-07T00:47:55.53848Z",
          "shell.execute_reply": "2024-10-07T00:47:55.542677Z"
        },
        "trusted": true,
        "id": "cW_JehqeqSqS"
      },
      "execution_count": null,
      "outputs": []
    },
    {
      "cell_type": "code",
      "source": [
        "def BuildModel(input_shape: tuple, num_classes: int):\n",
        "    resnet_model = ResNet50(weights='imagenet',\n",
        "                            include_top=False,\n",
        "                            input_shape=input_shape[1:])\n",
        "\n",
        "    # Reshape input for time distributed layer\n",
        "    input_layer = Input(shape=input_shape)\n",
        "    reshaped_input = layers.TimeDistributed(resnet_model)(input_layer)\n",
        "\n",
        "    # Flatten spatial features\n",
        "    flattened_features = layers.TimeDistributed(layers.Flatten())(reshaped_input)\n",
        "\n",
        "    # LSTM layer for temporal processing\n",
        "    lstm_output = layers.LSTM(64, return_sequences=True)(flattened_features)\n",
        "    lstm_output = layers.Dropout(0.2)(lstm_output)\n",
        "\n",
        "    # Apply spatial attention\n",
        "    attention = layers.Attention()([lstm_output, lstm_output])\n",
        "    attended_features = layers.Multiply()([lstm_output, attention])\n",
        "\n",
        "    # Global average pooling to obtain a fixed-size representation\n",
        "    global_avg_pooled = layers.GlobalAveragePooling1D()(attended_features)\n",
        "\n",
        "    # Dense layer for classification\n",
        "    output = layers.Dense(num_classes, activation='softmax')(global_avg_pooled)\n",
        "\n",
        "    # Create the model\n",
        "    model = Model(inputs=input_layer, outputs=output)\n",
        "\n",
        "    # Display the model summary\n",
        "    model.summary()\n",
        "\n",
        "    return model"
      ],
      "metadata": {
        "execution": {
          "iopub.status.busy": "2024-10-07T00:47:55.544829Z",
          "iopub.execute_input": "2024-10-07T00:47:55.545181Z",
          "iopub.status.idle": "2024-10-07T00:47:55.554248Z",
          "shell.execute_reply.started": "2024-10-07T00:47:55.545147Z",
          "shell.execute_reply": "2024-10-07T00:47:55.553283Z"
        },
        "trusted": true,
        "id": "gJK-Si-sqSqS"
      },
      "execution_count": null,
      "outputs": []
    },
    {
      "cell_type": "code",
      "source": [
        "attention_model = BuildModel(input_shape=X.shape[1:], num_classes=len(label_index))"
      ],
      "metadata": {
        "execution": {
          "iopub.status.busy": "2024-10-07T00:47:55.555553Z",
          "iopub.execute_input": "2024-10-07T00:47:55.556017Z",
          "iopub.status.idle": "2024-10-07T00:47:59.040613Z",
          "shell.execute_reply.started": "2024-10-07T00:47:55.555975Z",
          "shell.execute_reply": "2024-10-07T00:47:59.039726Z"
        },
        "trusted": true,
        "id": "TfC3rX3lqSqU"
      },
      "execution_count": null,
      "outputs": []
    },
    {
      "cell_type": "code",
      "source": [
        "plot_model(attention_model,\n",
        "           to_file='model.png',\n",
        "           show_shapes=True,\n",
        "           show_dtype=True,\n",
        "           show_layer_names=True,\n",
        "           show_layer_activations=True,\n",
        "           show_trainable=True,)"
      ],
      "metadata": {
        "execution": {
          "iopub.status.busy": "2024-10-07T00:47:59.042031Z",
          "iopub.execute_input": "2024-10-07T00:47:59.042673Z",
          "iopub.status.idle": "2024-10-07T00:47:59.749908Z",
          "shell.execute_reply.started": "2024-10-07T00:47:59.042615Z",
          "shell.execute_reply": "2024-10-07T00:47:59.748956Z"
        },
        "trusted": true,
        "id": "mbGHtitZqSqV"
      },
      "execution_count": null,
      "outputs": []
    },
    {
      "cell_type": "code",
      "source": [
        "def RecallScore(y_true, y_pred):\n",
        "    true_positives = K.sum(K.round(K.clip(y_true * y_pred, 0, 1)))\n",
        "    possible_positives = K.sum(K.round(K.clip(y_true, 0, 1)))\n",
        "    recall = true_positives / (possible_positives + K.epsilon())\n",
        "    return recall\n",
        "\n",
        "def PrecisionScore(y_true, y_pred):\n",
        "    true_positives = K.sum(K.round(K.clip(y_true * y_pred, 0, 1)))\n",
        "    predicted_positives = K.sum(K.round(K.clip(y_pred, 0, 1)))\n",
        "    precision = true_positives / (predicted_positives + K.epsilon())\n",
        "    return precision\n",
        "\n",
        "def F1Score(y_true, y_pred):\n",
        "    precision = PrecisionScore(y_true, y_pred)\n",
        "    recall = RecallScore(y_true, y_pred)\n",
        "    return 2*((precision*recall)/(precision+recall+K.epsilon()))"
      ],
      "metadata": {
        "execution": {
          "iopub.status.busy": "2024-10-07T00:47:59.751117Z",
          "iopub.execute_input": "2024-10-07T00:47:59.751429Z",
          "iopub.status.idle": "2024-10-07T00:47:59.759387Z",
          "shell.execute_reply.started": "2024-10-07T00:47:59.751395Z",
          "shell.execute_reply": "2024-10-07T00:47:59.758467Z"
        },
        "trusted": true,
        "id": "sYKYSLclqSqW"
      },
      "execution_count": null,
      "outputs": []
    },
    {
      "cell_type": "code",
      "source": [
        "attention_model.compile(optimizer=optimizers.Adam(learning_rate=1e-5),\n",
        "                        loss='categorical_crossentropy',\n",
        "                        metrics=['accuracy',RecallScore, PrecisionScore, F1Score])"
      ],
      "metadata": {
        "execution": {
          "iopub.status.busy": "2024-10-07T00:47:59.7605Z",
          "iopub.execute_input": "2024-10-07T00:47:59.760803Z",
          "iopub.status.idle": "2024-10-07T00:47:59.784481Z",
          "shell.execute_reply.started": "2024-10-07T00:47:59.760752Z",
          "shell.execute_reply": "2024-10-07T00:47:59.783639Z"
        },
        "trusted": true,
        "id": "cbKiBmfhqSqW"
      },
      "execution_count": null,
      "outputs": []
    },
    {
      "cell_type": "code",
      "source": [
        "# Check if a GPU is available\n",
        "gpus = tf.config.list_physical_devices('GPU')\n",
        "if gpus:\n",
        "    print(f\"Available GPU(s): {gpus}\")\n",
        "else:\n",
        "    print(\"No GPU available.\")"
      ],
      "metadata": {
        "execution": {
          "iopub.status.busy": "2024-10-07T00:49:31.922122Z",
          "iopub.execute_input": "2024-10-07T00:49:31.922792Z",
          "iopub.status.idle": "2024-10-07T00:49:31.928116Z",
          "shell.execute_reply.started": "2024-10-07T00:49:31.92274Z",
          "shell.execute_reply": "2024-10-07T00:49:31.927163Z"
        },
        "trusted": true,
        "id": "qVqgrCYbqSqX"
      },
      "execution_count": null,
      "outputs": []
    },
    {
      "cell_type": "code",
      "source": [
        "history = attention_model.fit(Xtrain,ytrain,\n",
        "                              validation_split=.2,\n",
        "                              batch_size=project_config.batch_size,\n",
        "                              epochs=50,\n",
        "                              callbacks=[callbacks.EarlyStopping(patience=10),\n",
        "                                         callbacks.LearningRateScheduler(lambda epoch, lr: lr if epoch < 10 else float(lr * K.exp(-0.1)))])"
      ],
      "metadata": {
        "execution": {
          "iopub.status.busy": "2024-10-07T00:49:34.744749Z",
          "iopub.execute_input": "2024-10-07T00:49:34.745893Z",
          "iopub.status.idle": "2024-10-07T01:19:45.194223Z",
          "shell.execute_reply.started": "2024-10-07T00:49:34.745837Z",
          "shell.execute_reply": "2024-10-07T01:19:45.193269Z"
        },
        "trusted": true,
        "id": "OW8Pd-TpqSqY"
      },
      "execution_count": null,
      "outputs": []
    },
    {
      "cell_type": "code",
      "source": [
        "result = pd.DataFrame(history.history)\n",
        "\n",
        "\n",
        "result"
      ],
      "metadata": {
        "execution": {
          "iopub.status.busy": "2024-10-07T01:19:45.592938Z",
          "iopub.execute_input": "2024-10-07T01:19:45.593864Z",
          "iopub.status.idle": "2024-10-07T01:19:45.63556Z",
          "shell.execute_reply.started": "2024-10-07T01:19:45.593815Z",
          "shell.execute_reply": "2024-10-07T01:19:45.634609Z"
        },
        "trusted": true,
        "id": "ISsqEb9cqSqY"
      },
      "execution_count": null,
      "outputs": []
    },
    {
      "cell_type": "code",
      "source": [
        "result[[\"accuracy\", \"f1_score\", \"precision_score\", \"recall_score\",\n",
        "        \"val_accuracy\", \"val_f1_score\", \"val_precision_score\", \"val_recall_score\"]].plot(figsize=(15, 5),\n",
        "                                                                                         title=\"Model Evaluation\",\n",
        "                                                                                         xlabel=\"Epoch\",\n",
        "                                                                                         ylabel=\"Score\")\n",
        "\n",
        "plt.show()"
      ],
      "metadata": {
        "execution": {
          "iopub.status.busy": "2024-10-07T01:19:45.636877Z",
          "iopub.execute_input": "2024-10-07T01:19:45.637253Z",
          "iopub.status.idle": "2024-10-07T01:19:45.975217Z",
          "shell.execute_reply.started": "2024-10-07T01:19:45.637217Z",
          "shell.execute_reply": "2024-10-07T01:19:45.974251Z"
        },
        "trusted": true,
        "id": "N_rsZ0ZpqSqZ"
      },
      "execution_count": null,
      "outputs": []
    },
    {
      "cell_type": "code",
      "source": [
        "result[[\"loss\", \"val_loss\"]].plot(figsize=(15, 5),\n",
        "                                  title=\"Model loss evaluation\",\n",
        "                                  xlabel=\"Epoch\",\n",
        "                                  ylabel=\"Score\")\n",
        "\n",
        "plt.show()"
      ],
      "metadata": {
        "execution": {
          "iopub.status.busy": "2024-10-07T01:21:47.717447Z",
          "iopub.execute_input": "2024-10-07T01:21:47.717941Z",
          "iopub.status.idle": "2024-10-07T01:21:48.057794Z",
          "shell.execute_reply.started": "2024-10-07T01:21:47.717901Z",
          "shell.execute_reply": "2024-10-07T01:21:48.056843Z"
        },
        "trusted": true,
        "id": "_WtKR6djqSqZ"
      },
      "execution_count": null,
      "outputs": []
    },
    {
      "cell_type": "code",
      "source": [
        "result[\"learning_rate\"].plot(figsize=(15, 5),\n",
        "                             title=\"Learning rate per epoch\",\n",
        "                             xlabel=\"Epoch\",\n",
        "                             ylabel=\"Learning rate\")\n",
        "\n",
        "plt.show()"
      ],
      "metadata": {
        "execution": {
          "iopub.status.busy": "2024-10-07T01:23:39.572479Z",
          "iopub.execute_input": "2024-10-07T01:23:39.573351Z",
          "iopub.status.idle": "2024-10-07T01:23:39.877692Z",
          "shell.execute_reply.started": "2024-10-07T01:23:39.573307Z",
          "shell.execute_reply": "2024-10-07T01:23:39.876814Z"
        },
        "trusted": true,
        "id": "etgCOm9vqSqa"
      },
      "execution_count": null,
      "outputs": []
    },
    {
      "cell_type": "markdown",
      "source": [
        "### Prediction on test Set"
      ],
      "metadata": {
        "id": "4bOevnOeqSqb"
      }
    },
    {
      "cell_type": "code",
      "source": [
        "test_pred = np.argmax(attention_model.predict(Xtest), axis=1)\n",
        "\n",
        "test_pred"
      ],
      "metadata": {
        "execution": {
          "iopub.status.busy": "2024-10-07T01:28:26.393693Z",
          "iopub.execute_input": "2024-10-07T01:28:26.394724Z",
          "iopub.status.idle": "2024-10-07T01:28:30.385686Z",
          "shell.execute_reply.started": "2024-10-07T01:28:26.394671Z",
          "shell.execute_reply": "2024-10-07T01:28:30.384827Z"
        },
        "trusted": true,
        "id": "0r8fKr0zqSqc"
      },
      "execution_count": null,
      "outputs": []
    },
    {
      "cell_type": "code",
      "source": [
        "ytrue = np.argmax(ytest, axis=1)\n",
        "\n",
        "ytrue"
      ],
      "metadata": {
        "execution": {
          "iopub.status.busy": "2024-10-07T01:29:11.053742Z",
          "iopub.execute_input": "2024-10-07T01:29:11.054721Z",
          "iopub.status.idle": "2024-10-07T01:29:11.061922Z",
          "shell.execute_reply.started": "2024-10-07T01:29:11.054678Z",
          "shell.execute_reply": "2024-10-07T01:29:11.060956Z"
        },
        "trusted": true,
        "id": "aAxiSYovqSqc"
      },
      "execution_count": null,
      "outputs": []
    },
    {
      "cell_type": "markdown",
      "source": [
        "## Classification report"
      ],
      "metadata": {
        "id": "Lc6X6PriqSqd"
      }
    },
    {
      "cell_type": "code",
      "source": [
        "print(metrics.classification_report(ytrue, test_pred))"
      ],
      "metadata": {
        "execution": {
          "iopub.status.busy": "2024-10-07T01:29:43.525283Z",
          "iopub.execute_input": "2024-10-07T01:29:43.526247Z",
          "iopub.status.idle": "2024-10-07T01:29:43.541259Z",
          "shell.execute_reply.started": "2024-10-07T01:29:43.5262Z",
          "shell.execute_reply": "2024-10-07T01:29:43.540451Z"
        },
        "trusted": true,
        "id": "5naBQDy5qSqd"
      },
      "execution_count": null,
      "outputs": []
    },
    {
      "cell_type": "markdown",
      "source": [
        "## Confusion Matrix"
      ],
      "metadata": {
        "id": "_1DrfTwwqSqw"
      }
    },
    {
      "cell_type": "code",
      "source": [
        "plt.figure(figsize=(15, 10))\n",
        "cm = metrics.confusion_matrix(ytrue, test_pred)\n",
        "sns.heatmap(cm,\n",
        "            annot=True,\n",
        "            xticklabels=list(label_index.values()),\n",
        "            yticklabels=list(label_index.values()))\n",
        "\n",
        "plt.xlabel(\"True value\")\n",
        "plt.ylabel(\"Prediction\")\n",
        "plt.show()"
      ],
      "metadata": {
        "execution": {
          "iopub.status.busy": "2024-10-07T01:41:55.139648Z",
          "iopub.execute_input": "2024-10-07T01:41:55.140365Z",
          "iopub.status.idle": "2024-10-07T01:41:55.543891Z",
          "shell.execute_reply.started": "2024-10-07T01:41:55.140323Z",
          "shell.execute_reply": "2024-10-07T01:41:55.542833Z"
        },
        "trusted": true,
        "id": "3wtauUhDqSqx"
      },
      "execution_count": null,
      "outputs": []
    },
    {
      "cell_type": "markdown",
      "source": [
        "## Eddy"
      ],
      "metadata": {
        "id": "pD8NT2jZqSqy"
      }
    }
  ]
}